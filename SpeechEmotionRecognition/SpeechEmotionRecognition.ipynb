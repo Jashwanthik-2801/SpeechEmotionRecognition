import numpy as np
import matplotlib.pyplot as plt
import pandas as pd 
import os
import matplotlib.pyplot as plt
import librosa.display
import librosa
import IPython.display as ipd  
import numpy as np
from tqdm import tqdm
from sklearn.model_selection import train_test_split
from sklearn.preprocessing import LabelEncoder
from keras.utils import np_utils
from keras.models import Sequential
from keras.layers import Input, Flatten, Dropout, Activation
from keras.layers import Conv1D, MaxPooling1D, AveragePooling1D
from keras.models import Model
from keras.layers import Dense, Embedding

path = "/content/drive/MyDrive/SpeechEmotion/"
Emotions={1:'neutral', 2:'calm', 3:'happy', 4:'sad', 5:'angry', 6:'fear', 7:'disgust', 8:'surprise'}

folder_names=os.listdir(path)
#print(folder_names)
folder_names.sort()

emotions=[]
gender=[]
intensity=[]
paths=[]

for i in folder_names:
    file_names=os.listdir(path + i)
    
    for file in file_names:
        parts=file.split('.')[0].split('-')
        emotions.append(int(parts[2]))
        intensity.append(int(parts[3]))
        if int(parts[6])%2==0:
            gender.append('female')
        else:
            gender.append('male')
        paths.append(path+i+'/'+file) 

ravdess=pd.DataFrame({
    'path':paths,
    'emotion':emotions
})
ravdess['emotion']=ravdess['emotion'].map(Emotions)
print('Shape=>',ravdess.shape)
ravdess


Tess = "/content/drive/MyDrive/Tess/tess/"

tess_directory_list = os.listdir(Tess)

file_emotion = []
file_path = []

for dir in tess_directory_list:
    directories = os.listdir(Tess + dir)
    for file in directories:
        part = file.split('.')[0]
        part = part.split('_')[2]
        if part=='ps':
            file_emotion.append('surprise')
        else:
            file_emotion.append(part)
        file_path.append(Tess + dir + '/' + file)

emotion_df = pd.DataFrame(file_emotion, columns=['emotion'])
path_df = pd.DataFrame(file_path, columns=['path'])
Tess_df = pd.concat([path_df,emotion_df], axis=1)
Tess_df.head()
        
df = (pd.concat([ravdess,Tess_df],axis = 0))
df.reset_index(drop=True,inplace=True)
df
