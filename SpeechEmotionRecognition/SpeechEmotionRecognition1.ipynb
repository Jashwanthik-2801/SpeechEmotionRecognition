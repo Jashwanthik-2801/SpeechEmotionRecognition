print(df['emotion'].value_counts())

ax = df['emotion'].value_counts().plot(kind='bar',figsize=(4,4),title="emotion Count")
ax.set_xlabel("Emotions")
ax.set_ylabel("count")
plt.show()

fig = plt.figure(figsize=(6,4))
signal,sr=librosa.load("/content/drive/MyDrive/SpeechEmotion/Actor_18/03-01-01-01-01-01-18.wav",sr=22050)
librosa.display.waveplot(signal,sr=22050)

audio_signals=[]
for i in Emotions.values():
    audio_signals.append(df[df['emotion']==i]['path'].reset_index(drop=True)[0])
audio_signals

fig,axes=plt.subplots(4,2,figsize=(16,20))

for ax,emotion,path in zip(axes.flatten(),Emotions.values(),audio_signals):
    signal,sr=librosa.load(path,sr=22050)
    librosa.display.waveplot(signal,sr=22050,ax=ax)
    ax.set(title=emotion)

s,sr = librosa.load("/content/drive/MyDrive/SpeechEmotion/Actor_01/03-01-01-01-01-01-01.wav",sr = 22050)
ipd.display(ipd.Audio(s,rate=22050))


s,sr = librosa.load("/content/drive/MyDrive/SpeechEmotion/Actor_02/03-01-01-01-01-01-02.wav",sr = 22050)
ipd.display(ipd.Audio(s,rate=22050))

k,sr = librosa.load("/content/drive/MyDrive/SpeechEmotion/Actor_02/03-01-01-01-01-01-02.wav",sr = None)
ipd.display(ipd.Audio(k,rate = 10000))


for emotion,path in zip(Emotions.values(),audio_signals):
    signal,sr=librosa.load(path,sr=3000)
    print("Emotion : " + emotion)
    ipd.display(ipd.Audio(signal,rate=3000))
